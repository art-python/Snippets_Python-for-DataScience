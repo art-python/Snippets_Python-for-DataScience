{
 "cells": [
  {
   "cell_type": "markdown",
   "id": "6c560762",
   "metadata": {},
   "source": [
    "#### How to import python libraries?"
   ]
  },
  {
   "cell_type": "code",
   "execution_count": 4,
   "id": "f4afa981",
   "metadata": {},
   "outputs": [],
   "source": [
    "import numpy as np\n",
    "import pandas as pd\n",
    "import matplotlib_inline as plt\n",
    "import seaborn as sns"
   ]
  },
  {
   "cell_type": "markdown",
   "id": "72a85a47",
   "metadata": {},
   "source": [
    "#### Identity function: If there are two variables defined as 'a = 3' and 'b = 4', will ID() function return the same values for a and b?\n",
    "The id() function in python returns the identity of an object, which is actually the memory address. Since, this identity is unique and constant for every object, it will not return same values for a and b."
   ]
  },
  {
   "cell_type": "code",
   "execution_count": 11,
   "id": "afdc7f6c",
   "metadata": {},
   "outputs": [],
   "source": [
    "a=\"z\"\n",
    "b=3"
   ]
  },
  {
   "cell_type": "code",
   "execution_count": 12,
   "id": "a5a18322",
   "metadata": {},
   "outputs": [
    {
     "data": {
      "text/plain": [
       "1495312254832"
      ]
     },
     "execution_count": 12,
     "metadata": {},
     "output_type": "execute_result"
    }
   ],
   "source": [
    "id(a)"
   ]
  },
  {
   "cell_type": "code",
   "execution_count": 10,
   "id": "fcaca4b5",
   "metadata": {},
   "outputs": [
    {
     "data": {
      "text/plain": [
       "1495302891888"
      ]
     },
     "execution_count": 10,
     "metadata": {},
     "output_type": "execute_result"
    }
   ],
   "source": [
    "id(b)"
   ]
  },
  {
   "cell_type": "markdown",
   "id": "4ef6ffc2",
   "metadata": {},
   "source": [
    "#### How can you change the index of a dataframe in python?"
   ]
  },
  {
   "cell_type": "code",
   "execution_count": null,
   "id": "9959f15f",
   "metadata": {},
   "outputs": [],
   "source": [
    "#Syntax:\n",
    "DataFrame.set_index(keys, drop=True, append=False, inplace=False, verify_integrity=False) "
   ]
  },
  {
   "cell_type": "markdown",
   "id": "d9eb07d7",
   "metadata": {},
   "source": [
    "keys: label or array-like or list of labels/arrays\n",
    "\n",
    "This parameter can be either a single column key, a single array of the same length as the calling DataFrame, or a list containing an arbitrary combination of column keys and arrays. Here, “array” encompasses Series, Index, np.ndarray, and instances of Iterator."
   ]
  },
  {
   "cell_type": "markdown",
   "id": "4afc7ab0",
   "metadata": {},
   "source": [
    "#### How to import multiple excel sheets in a data frame?"
   ]
  },
  {
   "cell_type": "code",
   "execution_count": null,
   "id": "7e723925",
   "metadata": {},
   "outputs": [],
   "source": [
    "#Syntax:\n",
    "df = pd.concat(pd.read_excel('sheet_name', sheet_name=None), ignore_index=True)"
   ]
  },
  {
   "cell_type": "markdown",
   "id": "05efe056",
   "metadata": {},
   "source": [
    "#### Write a function using python to impute outliers?"
   ]
  },
  {
   "cell_type": "code",
   "execution_count": null,
   "id": "77d71cff",
   "metadata": {},
   "outputs": [],
   "source": [
    "import numpy as np \n",
    "def remove Outliers(x, outlierConstant): \n",
    "    a = np.array(x) \n",
    "    upper_quartile = np.percentile(a, 75) \n",
    "    lower_quartile = np.percentile(a, 25) \n",
    "    IQR = (upper_quartile - lower_quartile) * outlierConstant quartileSet = (lower_quartile - IQR, upper_quartile + IQR) \n",
    "    \n",
    "resultList = \n",
    "    for y in a.tolist(): \n",
    "        if y > = quartileSet[0] and y < = quartileSet[1]: \n",
    "            resultList.append(y) \n",
    "            return resultList"
   ]
  },
  {
   "cell_type": "markdown",
   "id": "519aa241",
   "metadata": {},
   "source": [
    "#### check if the number is an Armstrong number or not"
   ]
  },
  {
   "cell_type": "code",
   "execution_count": 22,
   "id": "572a52be",
   "metadata": {},
   "outputs": [
    {
     "name": "stdin",
     "output_type": "stream",
     "text": [
      "Enter a number:  1264\n"
     ]
    },
    {
     "name": "stdout",
     "output_type": "stream",
     "text": [
      "1264 is not an Armstrong number\n"
     ]
    }
   ],
   "source": [
    "# take input from the user  \n",
    "num = int(input(\"Enter a number: \")) \n",
    "\n",
    "# initialize sum \n",
    "sum = 0 \n",
    "\n",
    "# find the sum of the cube of each digit\n",
    "temp = num\n",
    "while temp > 0:\n",
    "    digit = temp % 10\n",
    "    sum += digit ** 3\n",
    "    temp //= 10\n",
    "\n",
    "# display the result\n",
    "\n",
    "if num == sum:\n",
    "    print(num,\"is an Armstrong number\")\n",
    "\n",
    "else:\n",
    "    print(num,\"is not an Armstrong number\")"
   ]
  },
  {
   "cell_type": "markdown",
   "id": "588cfbbc",
   "metadata": {},
   "source": [
    "#### What is the apply function in Python? How does it work?\n",
    "Pandas.apply allow the users to pass a function and apply it on every single value of the Pandas series. "
   ]
  },
  {
   "cell_type": "code",
   "execution_count": null,
   "id": "f0f0e611",
   "metadata": {},
   "outputs": [],
   "source": [
    "#Syntax: \n",
    "s.apply(func, convert_dtype=True, args=())"
   ]
  },
  {
   "cell_type": "markdown",
   "id": "c8b92d59",
   "metadata": {},
   "source": [
    "#### How does the reverse function work in Python?\n",
    "The built-in reverse( ) function reverses the contents of a list object inplace. That means, it does not return a new instance of the original list, rather it makes a direct change to the original list object. "
   ]
  },
  {
   "cell_type": "code",
   "execution_count": null,
   "id": "b17cf4e5",
   "metadata": {},
   "outputs": [],
   "source": [
    "#Syntax: \n",
    "list.reverse()"
   ]
  },
  {
   "cell_type": "markdown",
   "id": "0f8337ea",
   "metadata": {},
   "source": [
    "#### How do you get the frequency of a categorical column of a dataframe using python?\n",
    "Using df.value_counts(), where df is the dataframe. The value_counts( ) function returns the counts of the distinct elements in a dataframe column, sorted in descending order by default."
   ]
  },
  {
   "cell_type": "code",
   "execution_count": null,
   "id": "4a62a4ea",
   "metadata": {},
   "outputs": [],
   "source": [
    "#Syntax:\n",
    "df.value_counts()"
   ]
  },
  {
   "cell_type": "markdown",
   "id": "863b1f20",
   "metadata": {},
   "source": [
    "#### How to drop a column in python?\n",
    "Pandas 'drop()' method is used to remove specific rows and columns. To drop a column, the parameter 'axis' should be set as 'axis = 1'. This parameter determines whether to drop labels from the columns or rows (index). Default behaviour is, axis = 0."
   ]
  },
  {
   "cell_type": "code",
   "execution_count": null,
   "id": "1cc10bc2",
   "metadata": {},
   "outputs": [],
   "source": [
    "#Syntax: \n",
    "df2 = df.drop('column_name', axis=1)\n",
    "\n",
    "#or\n",
    "\n",
    "df.drop('column_name', axis=1, inplace=True)"
   ]
  },
  {
   "cell_type": "markdown",
   "id": "3ba866ad",
   "metadata": {},
   "source": [
    "#### How to convert a python series object into a dataframe?\n",
    "The to_frame() is a function that helps us to convert a series object into a dataframe. Syntax: Series.to_frame(name=None) name: this name will substitute the existing series name while creating the dataframe."
   ]
  },
  {
   "cell_type": "code",
   "execution_count": null,
   "id": "c002f5a2",
   "metadata": {},
   "outputs": [],
   "source": [
    "#Syntax: \n",
    "Series.to_frame(name=None)"
   ]
  },
  {
   "cell_type": "markdown",
   "id": "b8a8db15",
   "metadata": {},
   "source": [
    "#### How to plot 3D plots using matplotlib?\n",
    "Yes Function: import numpy as np import matplotlib.pyplot as plt fig = plt.figure() ax = plt.axes(projection ='3d')"
   ]
  },
  {
   "cell_type": "code",
   "execution_count": null,
   "id": "88949eed",
   "metadata": {},
   "outputs": [],
   "source": [
    "#Synatx:\n",
    "import numpy as np \n",
    "import matplotlib.pyplot as plt \n",
    "fig = plt.figure() \n",
    "ax = plt.axes(projection ='3d')"
   ]
  },
  {
   "cell_type": "markdown",
   "id": "f4cf9061",
   "metadata": {},
   "source": [
    "#### How to convert categorical columns into a numeric column?\n",
    "One of the most used and popular ones are LabelEncoder and OneHotEncoder. Both are provided as parts of sklearn library. LabelEncoder can be used to transform categorical data into integers: "
   ]
  },
  {
   "cell_type": "code",
   "execution_count": 14,
   "id": "3af65e10",
   "metadata": {},
   "outputs": [
    {
     "name": "stdout",
     "output_type": "stream",
     "text": [
      "[0 1 0 2]\n"
     ]
    }
   ],
   "source": [
    "from sklearn.preprocessing import LabelEncoder \n",
    "label_encoder = LabelEncoder() \n",
    "x = ['Apple', 'Orange', 'Apple', 'Pear'] \n",
    "y = label_encoder.fit_transform(x) \n",
    "print(y)"
   ]
  },
  {
   "cell_type": "code",
   "execution_count": 15,
   "id": "917e60e7",
   "metadata": {},
   "outputs": [
    {
     "name": "stdout",
     "output_type": "stream",
     "text": [
      "[[1. 0. 0.]\n",
      " [0. 1. 0.]\n",
      " [1. 0. 0.]\n",
      " [0. 0. 1.]]\n"
     ]
    }
   ],
   "source": [
    "#OneHotEncoder can be used to transform categorical data into one hot encoded array:\n",
    "\n",
    "from sklearn.preprocessing import OneHotEncoder \n",
    "onehot_encoder = OneHotEncoder(sparse=False) \n",
    "y = y.reshape(len(y), 1) \n",
    "onehot_encoded = onehot_encoder.fit_transform(y) \n",
    "print(onehot_encoded)"
   ]
  },
  {
   "cell_type": "markdown",
   "id": "3ca39ae7",
   "metadata": {},
   "source": [
    "#### How to remove duplicate data from a dataframe?\n",
    "The 'drop_duplicates( )' function in python eliminates the redundant rows from the DataFrame and returns it."
   ]
  },
  {
   "cell_type": "code",
   "execution_count": null,
   "id": "90fbf0cd",
   "metadata": {},
   "outputs": [],
   "source": [
    "#Syntax: \n",
    "DataFrame.drop_duplicates(subset=None, keep=' ', inplace=False)"
   ]
  },
  {
   "cell_type": "markdown",
   "id": "a3119faa",
   "metadata": {},
   "source": [
    "1. subset: Subset takes a column or list of column label. The default value is none. After passing columns, it will consider them only for duplicates. \n",
    "2. keep: keep is to control how to consider duplicate value. It has only three distinct values ('first', 'last', 'false')\n",
    "3. default is 'first'."
   ]
  },
  {
   "cell_type": "markdown",
   "id": "88775081",
   "metadata": {},
   "source": [
    "#### How do you select a sample of dataframe?\n",
    "Depending on the situation, there are a few possible ways to select a sample from the dataframe - \n",
    "1. Randomly select a single row: df = df.sample() \n",
    "2. Randomly select a specified n number of rows: df = df.sample(n=3) \n",
    "3. Allow a random selection of the same row more than once: df = df.sample(n=3,replace=True) \n",
    "4. Randomly select a specified fraction of the total number of rows: df = df.sample(frac=0.50)"
   ]
  },
  {
   "cell_type": "code",
   "execution_count": null,
   "id": "7ddc4222",
   "metadata": {},
   "outputs": [],
   "source": [
    "#1. Randomly select a single row: \n",
    "df = df.sample()\n",
    "\n",
    "#2. Randomly select a specified n number of rows: \n",
    "df = df.sample(n=3)\n",
    "\n",
    "#3. Allow a random selection of the same row more than once: \n",
    "df = df.sample(n=3,replace=True)\n",
    "\n",
    "#4. Randomly select a specified fraction of the total number of rows: \n",
    "df = df.sample(frac=0.50)"
   ]
  },
  {
   "cell_type": "markdown",
   "id": "dc1f3ffb",
   "metadata": {},
   "source": [
    "#### How to use and Why to use \"GroupBy\" fuvntion in python?\n",
    "\n",
    "Pandas dataframe.groupby() function is used to split the data into groups based on some criteria. pandas objects can be split on any of their axes."
   ]
  },
  {
   "cell_type": "code",
   "execution_count": null,
   "id": "d8a2a5c6",
   "metadata": {},
   "outputs": [],
   "source": [
    "#Syntax: \n",
    "DataFrame.groupby(by=None, axis=0, level=None, as_index=True, sort=True, group_keys=True, squeeze=False, **kwargs)"
   ]
  },
  {
   "cell_type": "markdown",
   "id": "ade7c3ec",
   "metadata": {},
   "source": [
    "1. by: mapping, function, str, or iterable \n",
    "2. axis: int, default 0 \n",
    "3. level: If the axis is a MultiIndex (hierarchical), group by a particular level or levels \n",
    "4. as_index: For aggregated output, return object with group labels as the index. Only relevant for DataFrame input. \n",
    "5. sort: Sort group keys. Get better performance by turning this off. Note this does not influence the order of observations within each group. \n",
    "6. groupby preserves the order of rows within each group. group_keys: When calling apply, add group keys to index to identify pieces \n",
    "7. squeeze: Reduce the dimensionality of the return type if possible, otherwise return a consistent type \n",
    "8. Returns: GroupBy object"
   ]
  },
  {
   "cell_type": "markdown",
   "id": "ba0cbe69",
   "metadata": {},
   "source": [
    "#### How to check the distribution of data in python?\n",
    "A simple and commonly used plot to quickly check the distribution of a sample of data is the histogram."
   ]
  },
  {
   "cell_type": "code",
   "execution_count": null,
   "id": "48cadebe",
   "metadata": {},
   "outputs": [],
   "source": [
    "from matplotlib import pyplot \n",
    "pyplot.hist(data)"
   ]
  },
  {
   "cell_type": "markdown",
   "id": "a6c7fece",
   "metadata": {},
   "source": [
    "#### Important libraries in SciPy that you might need to work with during your project?\n",
    "* SciPy contains modules for optimization, linear algebra, integration, interpolation, special functions, FFT, signal and image processing, ODE solvers etc \n",
    "* Subpackages include: scipy.cluster, scipy.constants, scipy.fftpack, scipy.integrate, scipy.interpolation, scipy.linalg, scipy.io, scipy.ndimage, scipy.odr, scipy.optimize, scipy.signal, scipy.sparse, scipy.spatial, scipy.special, scipy.stats, scipy.weaves"
   ]
  },
  {
   "cell_type": "markdown",
   "id": "d2e72f94",
   "metadata": {},
   "source": [
    "#### How to check a number is prime or not using Python?"
   ]
  },
  {
   "cell_type": "code",
   "execution_count": 19,
   "id": "aa986881",
   "metadata": {},
   "outputs": [
    {
     "name": "stdin",
     "output_type": "stream",
     "text": [
      "Enter any number:  131\n"
     ]
    },
    {
     "name": "stdout",
     "output_type": "stream",
     "text": [
      "131 is a prime number\n"
     ]
    }
   ],
   "source": [
    "# taking input from user\n",
    "\n",
    "number = int(input(\"Enter any number: \"))\n",
    "\n",
    "# prime number is always greater than 1\n",
    "\n",
    "if number > 1:\n",
    "    for i in range(2, number):\n",
    "        if (number % i) == 0:\n",
    "            print(number, \"is not a prime number\")\n",
    "            break\n",
    "        else:\n",
    "            print(number, \"is a prime number\")\n",
    "            break\n",
    "\n",
    "# if the entered number is less than or equal to 1\n",
    "\n",
    "# then it is not a prime number\n",
    "\n",
    "else:\n",
    "    print(number, \"is not a prime number\")"
   ]
  },
  {
   "cell_type": "markdown",
   "id": "c64f7395",
   "metadata": {},
   "source": [
    "#### How to check missing values in python?\n",
    "Pandas isnull() function detect missing values in the given object. It returns a boolean same-sized object indicating if the values are NA. Missing values get mapped to True and non-missing value gets mapped to False."
   ]
  },
  {
   "cell_type": "code",
   "execution_count": null,
   "id": "eacc3191",
   "metadata": {},
   "outputs": [],
   "source": [
    "df.isnull()"
   ]
  },
  {
   "cell_type": "markdown",
   "id": "12a6d496",
   "metadata": {},
   "source": [
    "#### Write a function using python to impute outliers?"
   ]
  },
  {
   "cell_type": "code",
   "execution_count": null,
   "id": "eb91935c",
   "metadata": {},
   "outputs": [],
   "source": [
    "import numpy as np\n",
    "\n",
    "def removeOutliers(x, outlierConstant):\n",
    "    \n",
    "    a = np.array(x)\n",
    "    upper_quartile = np.percentile(a, 75)\n",
    "    lower_quartile = np.percentile(a, 25)\n",
    "    IQR = (upper_quartile - lower_quartile) * outlierConstant\n",
    "    quartileSet = (lower_quartile - IQR, upper_quartile + IQR)\n",
    "    resultList = []\n",
    "\n",
    "for y in a.tolist():\n",
    "    if y > = quartileSet[0] and y < = quartileSet[1]:\n",
    "        resultList.append(y)\n",
    "        return resultList"
   ]
  },
  {
   "cell_type": "markdown",
   "id": "99ebce58",
   "metadata": {},
   "source": [
    "#### Difference between univariate and bivariate analysis? What all different functions can be used in python?\n",
    "\n",
    "Univariate statistics summarize only one variable at a time.\n",
    "\n",
    "Bivariate statistics compare two variables."
   ]
  },
  {
   "cell_type": "code",
   "execution_count": null,
   "id": "bca5c8f6",
   "metadata": {},
   "outputs": [],
   "source": [
    "#Below are a few functions which can be used in the univariate and bivariate analysis:\n",
    "\n",
    "#1. To find the population proportions with different types of blood disorders.\n",
    "\n",
    "  df.Thal.value_counts()\n",
    "\n",
    "#2. To make a plot of the distribution :\n",
    "\n",
    "  sns.distplot(df.Variable.dropna())\n",
    "\n",
    "#3. Find the minimum, maximum, average, and standard deviation of data.\n",
    "\n",
    "  df.describe()\n",
    "\n",
    "#4. Find the mean of the Variable\n",
    " \n",
    "    df.Variable.dropna().mean()\n",
    "\n",
    "#5. Boxplot to observe outliers\n",
    "\n",
    "   sns.boxplot(x = \"\", y = \"\", hue = \"\", data=df)\n",
    "\n",
    "#6. Correlation plot:\n",
    "\n",
    "   df.corr()"
   ]
  },
  {
   "cell_type": "markdown",
   "id": "3d3cced9",
   "metadata": {},
   "source": [
    "#### What all different methods can be used to standardize the data using python?\n",
    "\n",
    "* Min Max Scaler.\n",
    "\n",
    "* Standard Scaler.\n",
    "\n",
    "* Max Abs Scaler.\n",
    "\n",
    "* Robust Scaler.\n",
    "\n",
    "* Quantile Transformer Scaler.\n",
    "\n",
    "* Power Transformer Scaler.\n",
    "\n",
    "* Unit Vector Scaler."
   ]
  },
  {
   "cell_type": "markdown",
   "id": "026ea46b",
   "metadata": {},
   "source": [
    "#### How do you do upsampling of data?\n",
    "Up-sampling is the process of randomly duplicating observations from the minority class in order to reinforce its signal.\n",
    "There are several heuristics for doing so, but the most common way is to simply resample with replacement."
   ]
  },
  {
   "cell_type": "code",
   "execution_count": null,
   "id": "6ede2a63",
   "metadata": {},
   "outputs": [],
   "source": [
    "#Module for resampling in Python:\n",
    "\n",
    "from sklearn.utils import resample"
   ]
  },
  {
   "cell_type": "markdown",
   "id": "d59f6825",
   "metadata": {},
   "source": [
    "#### What is the difference between list, array and tuple in Python?\n",
    "\n",
    "##### List:\n",
    "\n",
    "* The list is an ordered collection of data types.\n",
    "\n",
    "* The list is mutable.\n",
    "\n",
    "* List are dynamic and can contain objects of different data types.\n",
    "\n",
    "* List elements can be accessed by index number\n",
    "\n",
    " \n",
    "\n",
    "##### Array:\n",
    "\n",
    "* An array is an ordered collection of similar data types.\n",
    "\n",
    "* An array is mutable.\n",
    "\n",
    "* An array can be accessed by using its index number.\n",
    "\n",
    " \n",
    "\n",
    "##### Tuple:\n",
    "\n",
    "* Tuples are immutable and can store any type of data type.\n",
    "\n",
    "* it is defined using ( ).\n",
    "\n",
    "* it cannot be changed or replaced as it is an immutable data type"
   ]
  },
  {
   "cell_type": "code",
   "execution_count": null,
   "id": "3ae6caa7",
   "metadata": {},
   "outputs": [],
   "source": []
  }
 ],
 "metadata": {
  "kernelspec": {
   "display_name": "Python 3 (ipykernel)",
   "language": "python",
   "name": "python3"
  },
  "language_info": {
   "codemirror_mode": {
    "name": "ipython",
    "version": 3
   },
   "file_extension": ".py",
   "mimetype": "text/x-python",
   "name": "python",
   "nbconvert_exporter": "python",
   "pygments_lexer": "ipython3",
   "version": "3.9.7"
  }
 },
 "nbformat": 4,
 "nbformat_minor": 5
}
