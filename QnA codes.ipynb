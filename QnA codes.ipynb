{
 "cells": [
  {
   "cell_type": "markdown",
   "id": "51aff907",
   "metadata": {},
   "source": [
    "#### Q. How to import python libraries?"
   ]
  },
  {
   "cell_type": "code",
   "execution_count": 4,
   "id": "dfe46f02",
   "metadata": {},
   "outputs": [],
   "source": [
    "import numpy as np\n",
    "import pandas as pd\n",
    "import matplotlib_inline as plt\n",
    "import seaborn as sns"
   ]
  },
  {
   "cell_type": "markdown",
   "id": "37935c02",
   "metadata": {},
   "source": [
    "#### Q. Identity function: If there are two variables defined as 'a = 3' and 'b = 4', will ID() function return the same values for a and b?\n",
    "The id() function in python returns the identity of an object, which is actually the memory address. Since, this identity is unique and constant for every object, it will not return same values for a and b."
   ]
  },
  {
   "cell_type": "code",
   "execution_count": 11,
   "id": "32e6e0f1",
   "metadata": {},
   "outputs": [],
   "source": [
    "a=\"z\"\n",
    "b=3"
   ]
  },
  {
   "cell_type": "code",
   "execution_count": 12,
   "id": "d712c423",
   "metadata": {},
   "outputs": [
    {
     "data": {
      "text/plain": [
       "1495312254832"
      ]
     },
     "execution_count": 12,
     "metadata": {},
     "output_type": "execute_result"
    }
   ],
   "source": [
    "id(a)"
   ]
  },
  {
   "cell_type": "code",
   "execution_count": 10,
   "id": "c62f1ed8",
   "metadata": {},
   "outputs": [
    {
     "data": {
      "text/plain": [
       "1495302891888"
      ]
     },
     "execution_count": 10,
     "metadata": {},
     "output_type": "execute_result"
    }
   ],
   "source": [
    "id(b)"
   ]
  },
  {
   "cell_type": "markdown",
   "id": "828b99b1",
   "metadata": {},
   "source": [
    "#### Q.  How can you change the index of a dataframe in python?"
   ]
  },
  {
   "cell_type": "code",
   "execution_count": null,
   "id": "b6b404e1",
   "metadata": {},
   "outputs": [],
   "source": [
    "#Syntax:\n",
    "DataFrame.set_index(keys, drop=True, append=False, inplace=False, verify_integrity=False) "
   ]
  },
  {
   "cell_type": "markdown",
   "id": "47a58c8d",
   "metadata": {},
   "source": [
    "#### Q. How to import multiple excel sheets in a data frame?"
   ]
  },
  {
   "cell_type": "code",
   "execution_count": null,
   "id": "d739c0ba",
   "metadata": {},
   "outputs": [],
   "source": [
    "#Syntax:\n",
    "df = pd.concat(pd.read_excel('sheet_name', sheet_name=None), ignore_index=True)"
   ]
  },
  {
   "cell_type": "markdown",
   "id": "05f18f17",
   "metadata": {},
   "source": [
    "#### Q. write a function using python to impute outliers?"
   ]
  },
  {
   "cell_type": "code",
   "execution_count": null,
   "id": "3c0ca177",
   "metadata": {},
   "outputs": [],
   "source": [
    "import numpy as np \n",
    "def remove Outliers(x, outlierConstant): \n",
    "    a = np.array(x) \n",
    "    upper_quartile = np.percentile(a, 75) \n",
    "    lower_quartile = np.percentile(a, 25) \n",
    "    IQR = (upper_quartile - lower_quartile) * outlierConstant quartileSet = (lower_quartile - IQR, upper_quartile + IQR) \n",
    "    \n",
    "resultList = \n",
    "    for y in a.tolist(): \n",
    "        if y > = quartileSet[0] and y < = quartileSet[1]: \n",
    "            resultList.append(y) \n",
    "            return resultList"
   ]
  },
  {
   "cell_type": "markdown",
   "id": "0e07e10a",
   "metadata": {},
   "source": [
    "#### Q. check if the number is an Armstrong number or not"
   ]
  },
  {
   "cell_type": "code",
   "execution_count": null,
   "id": "c8ea71aa",
   "metadata": {},
   "outputs": [],
   "source": [
    "# take input from the user  \n",
    "num = int(input(\"Enter a number: \")) \n",
    "\n",
    "# initialize sum \n",
    "sum = 0 \n",
    "\n",
    "# find the sum of the cube of each digit \n",
    "temp = num \n",
    "while temp > 0: \n",
    "    digit = temp % 10 \n",
    "    sum += digit ** 3 temp //= 10 \n",
    "\n",
    "# display the result \n",
    "if num == sum: \n",
    "    print(num,\"is an Armstrong number\") \n",
    "else: print(num,\"is not an Armstrong number\")"
   ]
  },
  {
   "cell_type": "markdown",
   "id": "9e1279ec",
   "metadata": {},
   "source": [
    "#### Q. What is the apply function in Python? How does it work?\n",
    "Pandas.apply allow the users to pass a function and apply it on every single value of the Pandas series. "
   ]
  },
  {
   "cell_type": "code",
   "execution_count": null,
   "id": "83fc17db",
   "metadata": {},
   "outputs": [],
   "source": [
    "#Syntax: \n",
    "s.apply(func, convert_dtype=True, args=())"
   ]
  },
  {
   "cell_type": "markdown",
   "id": "8f800b06",
   "metadata": {},
   "source": [
    "#### Q. How does the reverse function work in Python?\n",
    "The built-in reverse( ) function reverses the contents of a list object inplace. That means, it does not return a new instance of the original list, rather it makes a direct change to the original list object. "
   ]
  },
  {
   "cell_type": "code",
   "execution_count": null,
   "id": "e12dd069",
   "metadata": {},
   "outputs": [],
   "source": [
    "#Syntax: \n",
    "list.reverse()"
   ]
  },
  {
   "cell_type": "markdown",
   "id": "55e4e82c",
   "metadata": {},
   "source": [
    "#### Q. How do you get the frequency of a categorical column of a dataframe using python?\n",
    "Using df.value_counts(), where df is the dataframe. The value_counts( ) function returns the counts of the distinct elements in a dataframe column, sorted in descending order by default."
   ]
  },
  {
   "cell_type": "code",
   "execution_count": null,
   "id": "78d784b6",
   "metadata": {},
   "outputs": [],
   "source": [
    "#Syntax:\n",
    "df.value_counts()"
   ]
  },
  {
   "cell_type": "markdown",
   "id": "f7e158f1",
   "metadata": {},
   "source": [
    "#### Q. How to drop a column in python?\n",
    "Pandas 'drop()' method is used to remove specific rows and columns. To drop a column, the parameter 'axis' should be set as 'axis = 1'. This parameter determines whether to drop labels from the columns or rows (index). Default behaviour is, axis = 0."
   ]
  },
  {
   "cell_type": "code",
   "execution_count": null,
   "id": "0fc73cb7",
   "metadata": {},
   "outputs": [],
   "source": [
    "#Syntax: \n",
    "df2 = df.drop('column_name', axis=1)\n",
    "\n",
    "#or\n",
    "\n",
    "df.drop('column_name', axis=1, inplace=True)"
   ]
  },
  {
   "cell_type": "markdown",
   "id": "071560e7",
   "metadata": {},
   "source": [
    "#### Q. How to convert a python series object into a dataframe?\n",
    "The to_frame() is a function that helps us to convert a series object into a dataframe. Syntax: Series.to_frame(name=None) name: this name will substitute the existing series name while creating the dataframe."
   ]
  },
  {
   "cell_type": "code",
   "execution_count": null,
   "id": "f775941f",
   "metadata": {},
   "outputs": [],
   "source": [
    "#Syntax: \n",
    "Series.to_frame(name=None)"
   ]
  },
  {
   "cell_type": "markdown",
   "id": "a8cb52da",
   "metadata": {},
   "source": [
    "#### Q. How to plot 3D plots using matplotlib?\n",
    "Yes Function: import numpy as np import matplotlib.pyplot as plt fig = plt.figure() ax = plt.axes(projection ='3d')"
   ]
  },
  {
   "cell_type": "code",
   "execution_count": null,
   "id": "a525a2d8",
   "metadata": {},
   "outputs": [],
   "source": [
    "#Synatx:\n",
    "import numpy as np \n",
    "import matplotlib.pyplot as plt \n",
    "fig = plt.figure() \n",
    "ax = plt.axes(projection ='3d')"
   ]
  },
  {
   "cell_type": "markdown",
   "id": "1fc2554e",
   "metadata": {},
   "source": [
    "#### Q.  How to convert categorical columns into a numeric column?\n",
    "One of the most used and popular ones are LabelEncoder and OneHotEncoder. Both are provided as parts of sklearn library. LabelEncoder can be used to transform categorical data into integers: "
   ]
  },
  {
   "cell_type": "code",
   "execution_count": 14,
   "id": "dd62ca6f",
   "metadata": {},
   "outputs": [
    {
     "name": "stdout",
     "output_type": "stream",
     "text": [
      "[0 1 0 2]\n"
     ]
    }
   ],
   "source": [
    "from sklearn.preprocessing import LabelEncoder \n",
    "label_encoder = LabelEncoder() \n",
    "x = ['Apple', 'Orange', 'Apple', 'Pear'] \n",
    "y = label_encoder.fit_transform(x) \n",
    "print(y)"
   ]
  },
  {
   "cell_type": "code",
   "execution_count": 15,
   "id": "d4cc06c8",
   "metadata": {},
   "outputs": [
    {
     "name": "stdout",
     "output_type": "stream",
     "text": [
      "[[1. 0. 0.]\n",
      " [0. 1. 0.]\n",
      " [1. 0. 0.]\n",
      " [0. 0. 1.]]\n"
     ]
    }
   ],
   "source": [
    "#OneHotEncoder can be used to transform categorical data into one hot encoded array:\n",
    "\n",
    "from sklearn.preprocessing import OneHotEncoder \n",
    "onehot_encoder = OneHotEncoder(sparse=False) \n",
    "y = y.reshape(len(y), 1) \n",
    "onehot_encoded = onehot_encoder.fit_transform(y) \n",
    "print(onehot_encoded)"
   ]
  },
  {
   "cell_type": "markdown",
   "id": "b05858e3",
   "metadata": {},
   "source": [
    "#### Q. How to remove duplicate data from a dataframe?\n",
    "The 'drop_duplicates( )' function in python eliminates the redundant rows from the DataFrame and returns it."
   ]
  },
  {
   "cell_type": "code",
   "execution_count": null,
   "id": "58ebac2e",
   "metadata": {},
   "outputs": [],
   "source": [
    "#Syntax: \n",
    "DataFrame.drop_duplicates(subset=None, keep=' ', inplace=False)"
   ]
  },
  {
   "cell_type": "markdown",
   "id": "3e60d3de",
   "metadata": {},
   "source": [
    "1. subset: Subset takes a column or list of column label. The default value is none. After passing columns, it will consider them only for duplicates. \n",
    "2. keep: keep is to control how to consider duplicate value. It has only three distinct values ('first', 'last', 'false')\n",
    "3. default is 'first'."
   ]
  },
  {
   "cell_type": "markdown",
   "id": "a26379f0",
   "metadata": {},
   "source": [
    "#### Q. How do you select a sample of dataframe?\n",
    "Depending on the situation, there are a few possible ways to select a sample from the dataframe - \n",
    "1. Randomly select a single row: df = df.sample() \n",
    "2. Randomly select a specified n number of rows: df = df.sample(n=3) \n",
    "3. Allow a random selection of the same row more than once: df = df.sample(n=3,replace=True) \n",
    "4. Randomly select a specified fraction of the total number of rows: df = df.sample(frac=0.50)"
   ]
  },
  {
   "cell_type": "code",
   "execution_count": null,
   "id": "fa389a05",
   "metadata": {},
   "outputs": [],
   "source": [
    "#1. Randomly select a single row: \n",
    "df = df.sample()\n",
    "\n",
    "#2. Randomly select a specified n number of rows: \n",
    "df = df.sample(n=3)\n",
    "\n",
    "#3. Allow a random selection of the same row more than once: \n",
    "df = df.sample(n=3,replace=True)\n",
    "\n",
    "#4. Randomly select a specified fraction of the total number of rows: \n",
    "df = df.sample(frac=0.50)"
   ]
  },
  {
   "cell_type": "markdown",
   "id": "577caac4",
   "metadata": {},
   "source": [
    "#### Q. How to use and Why to use \"GroupBy\" fuvntion in python?\n",
    "\n",
    "Pandas dataframe.groupby() function is used to split the data into groups based on some criteria. pandas objects can be split on any of their axes."
   ]
  },
  {
   "cell_type": "code",
   "execution_count": null,
   "id": "11c65d3b",
   "metadata": {},
   "outputs": [],
   "source": [
    "#Syntax: \n",
    "DataFrame.groupby(by=None, axis=0, level=None, as_index=True, sort=True, group_keys=True, squeeze=False, **kwargs)"
   ]
  },
  {
   "cell_type": "markdown",
   "id": "0f440335",
   "metadata": {},
   "source": [
    "1. by: mapping, function, str, or iterable \n",
    "2. axis: int, default 0 \n",
    "3. level: If the axis is a MultiIndex (hierarchical), group by a particular level or levels \n",
    "4. as_index: For aggregated output, return object with group labels as the index. Only relevant for DataFrame input. \n",
    "5. sort: Sort group keys. Get better performance by turning this off. Note this does not influence the order of observations within each group. \n",
    "6. groupby preserves the order of rows within each group. group_keys: When calling apply, add group keys to index to identify pieces \n",
    "7. squeeze: Reduce the dimensionality of the return type if possible, otherwise return a consistent type \n",
    "8. Returns: GroupBy object"
   ]
  },
  {
   "cell_type": "markdown",
   "id": "076d1377",
   "metadata": {},
   "source": [
    "#### Q. How to check the distribution of data in python?\n",
    "A simple and commonly used plot to quickly check the distribution of a sample of data is the histogram."
   ]
  },
  {
   "cell_type": "code",
   "execution_count": null,
   "id": "c5c986d4",
   "metadata": {},
   "outputs": [],
   "source": [
    "from matplotlib import pyplot \n",
    "pyplot.hist(data)"
   ]
  },
  {
   "cell_type": "markdown",
   "id": "25f83c86",
   "metadata": {},
   "source": [
    "#### Q. Important libraries in SciPy that you might need to work with during your project?\n",
    "* SciPy contains modules for optimization, linear algebra, integration, interpolation, special functions, FFT, signal and image processing, ODE solvers etc \n",
    "* Subpackages include: scipy.cluster, scipy.constants, scipy.fftpack, scipy.integrate, scipy.interpolation, scipy.linalg, scipy.io, scipy.ndimage, scipy.odr, scipy.optimize, scipy.signal, scipy.sparse, scipy.spatial, scipy.special, scipy.stats, scipy.weaves"
   ]
  },
  {
   "cell_type": "code",
   "execution_count": null,
   "id": "d68ff50c",
   "metadata": {},
   "outputs": [],
   "source": []
  },
  {
   "cell_type": "code",
   "execution_count": null,
   "id": "7d4c26b9",
   "metadata": {},
   "outputs": [],
   "source": []
  },
  {
   "cell_type": "code",
   "execution_count": null,
   "id": "38d60baa",
   "metadata": {},
   "outputs": [],
   "source": []
  },
  {
   "cell_type": "code",
   "execution_count": null,
   "id": "1ea5c345",
   "metadata": {},
   "outputs": [],
   "source": []
  },
  {
   "cell_type": "code",
   "execution_count": null,
   "id": "7046bec2",
   "metadata": {},
   "outputs": [],
   "source": []
  },
  {
   "cell_type": "code",
   "execution_count": null,
   "id": "786918cf",
   "metadata": {},
   "outputs": [],
   "source": []
  },
  {
   "cell_type": "code",
   "execution_count": null,
   "id": "afe5ad6d",
   "metadata": {},
   "outputs": [],
   "source": []
  },
  {
   "cell_type": "code",
   "execution_count": null,
   "id": "13425de0",
   "metadata": {},
   "outputs": [],
   "source": []
  },
  {
   "cell_type": "code",
   "execution_count": null,
   "id": "5bd3d645",
   "metadata": {},
   "outputs": [],
   "source": []
  },
  {
   "cell_type": "code",
   "execution_count": null,
   "id": "2cf7d29c",
   "metadata": {},
   "outputs": [],
   "source": []
  },
  {
   "cell_type": "code",
   "execution_count": null,
   "id": "a56b1670",
   "metadata": {},
   "outputs": [],
   "source": []
  }
 ],
 "metadata": {
  "kernelspec": {
   "display_name": "Python 3 (ipykernel)",
   "language": "python",
   "name": "python3"
  },
  "language_info": {
   "codemirror_mode": {
    "name": "ipython",
    "version": 3
   },
   "file_extension": ".py",
   "mimetype": "text/x-python",
   "name": "python",
   "nbconvert_exporter": "python",
   "pygments_lexer": "ipython3",
   "version": "3.9.7"
  }
 },
 "nbformat": 4,
 "nbformat_minor": 5
}
